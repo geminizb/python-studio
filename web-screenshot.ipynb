{
 "cells": [
  {
   "cell_type": "code",
   "execution_count": 14,
   "metadata": {},
   "outputs": [],
   "source": [
    "from selenium import webdriver\n",
    "from selenium.webdriver.chrome.options import Options\n",
    "import time"
   ]
  },
  {
   "cell_type": "code",
   "execution_count": 12,
   "metadata": {},
   "outputs": [],
   "source": [
    "url = 'http://www.bing.com'\n",
    "save_file = 'capture2.png'"
   ]
  },
  {
   "cell_type": "code",
   "execution_count": 13,
   "metadata": {},
   "outputs": [],
   "source": [
    "options = Options()\n",
    "options.add_argument('-headless')\n",
    "browser = webdriver.Chrome(options=options)"
   ]
  },
  {
   "cell_type": "code",
   "execution_count": null,
   "metadata": {},
   "outputs": [],
   "source": [
    "browser = webdriver.PhantomJS()"
   ]
  },
  {
   "cell_type": "code",
   "execution_count": 9,
   "metadata": {},
   "outputs": [],
   "source": [
    "browser.set_window_size(1200, 900)\n",
    "browser.get(url)\n",
    "browser.execute_script(\"\"\"\n",
    "    (function() {\n",
    "        var y = 0;\n",
    "        var step = 100;\n",
    "        window.scroll(0, 0);\n",
    "\n",
    "        function f() {\n",
    "            if (y < document.body.scrollHeight) {\n",
    "                y += step;\n",
    "                window.scroll(0, y);\n",
    "                setTimeout(f, 50);\n",
    "            } else {\n",
    "                window.scroll(0, 0);\n",
    "                document.title += \"scroll-done\";\n",
    "            }\n",
    "        }\n",
    "        setTimeout(f, 1000);\n",
    "    })()\n",
    "\"\"\")\n",
    "\n",
    "for i in range(30):\n",
    "    if 'scroll-done' in browser.title:\n",
    "        break\n",
    "    time.sleep(1)\n",
    "\n",
    "browser.save_screenshot(save_file)\n",
    "browser.close()"
   ]
  }
 ],
 "metadata": {
  "kernelspec": {
   "display_name": "Python 3",
   "language": "python",
   "name": "python3"
  },
  "language_info": {
   "codemirror_mode": {
    "name": "ipython",
    "version": 3
   },
   "file_extension": ".py",
   "mimetype": "text/x-python",
   "name": "python",
   "nbconvert_exporter": "python",
   "pygments_lexer": "ipython3",
   "version": "3.6.5"
  }
 },
 "nbformat": 4,
 "nbformat_minor": 2
}
