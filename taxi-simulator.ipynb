{
 "cells": [
  {
   "cell_type": "code",
   "execution_count": 7,
   "metadata": {},
   "outputs": [],
   "source": [
    "import collections\n",
    "import queue\n",
    "import random"
   ]
  },
  {
   "cell_type": "code",
   "execution_count": 2,
   "metadata": {},
   "outputs": [],
   "source": [
    "Event = collections.namedtuple('Event', 'time proc action')"
   ]
  },
  {
   "cell_type": "code",
   "execution_count": 3,
   "metadata": {},
   "outputs": [],
   "source": [
    "def taxi_process(ident, trips, start_time=0):\n",
    "    time = yield Event(start_time, ident, 'leave garage')\n",
    "    for i in range(trips):\n",
    "        time = yield Event(time, ident, 'pick up passenger')\n",
    "        time = yield Event(time, ident, 'drop off passenger')\n",
    "    yield Event(time, ident, 'going home')"
   ]
  },
  {
   "cell_type": "code",
   "execution_count": 18,
   "metadata": {},
   "outputs": [],
   "source": [
    "class Simulator:\n",
    "    def __init__(self, procs_map):\n",
    "        self.events = queue.PriorityQueue()\n",
    "        self.procs = dict(procs_map)\n",
    "    \n",
    "    def run(self, end_time):\n",
    "        for _, proc in sorted(self.procs.items()):\n",
    "            first_event = next(proc)\n",
    "            self.events.put(first_event)\n",
    "        \n",
    "        sim_time = 0\n",
    "        while sim_time < end_time:\n",
    "            if self.events.empty():\n",
    "                print('*** end of events ***')\n",
    "                break\n",
    "            \n",
    "            current_event = self.events.get()\n",
    "            sim_time, proc_id, previous_action = current_event\n",
    "            print('taxi: ', proc_id, proc_id * '  ', current_event)\n",
    "            active_proc = self.procs[proc_id]\n",
    "            next_time = sim_time + random.randint(1, 30)\n",
    "            try:\n",
    "                next_event = active_proc.send(next_time)\n",
    "            except StopIteration:\n",
    "                del self.procs[proc_id]\n",
    "            else:\n",
    "                self.events.put(next_event)\n",
    "        else:\n",
    "            msg = '*** end of simulation time: {} events pending ***'\n",
    "            print(msg.format(self.events.qsize()))"
   ]
  },
  {
   "cell_type": "code",
   "execution_count": 5,
   "metadata": {},
   "outputs": [],
   "source": [
    "DEFAULT_INTERVAL = 5\n",
    "num_taxis = 3\n",
    "taxis = {i: taxi_process(i, (i + 1) * 2, i * DEFAULT_INTERVAL) for i in range(num_taxis)}"
   ]
  },
  {
   "cell_type": "code",
   "execution_count": 20,
   "metadata": {},
   "outputs": [
    {
     "name": "stdout",
     "output_type": "stream",
     "text": [
      "taxi:  0  Event(time=0, proc=0, action='leave garage')\n",
      "taxi:  1    Event(time=5, proc=1, action='leave garage')\n",
      "taxi:  2      Event(time=10, proc=2, action='leave garage')\n",
      "taxi:  0  Event(time=12, proc=0, action='pick up passenger')\n",
      "taxi:  1    Event(time=20, proc=1, action='pick up passenger')\n",
      "taxi:  1    Event(time=21, proc=1, action='drop off passenger')\n",
      "taxi:  2      Event(time=25, proc=2, action='pick up passenger')\n",
      "taxi:  0  Event(time=28, proc=0, action='drop off passenger')\n",
      "taxi:  1    Event(time=33, proc=1, action='pick up passenger')\n",
      "taxi:  2      Event(time=41, proc=2, action='drop off passenger')\n",
      "taxi:  0  Event(time=50, proc=0, action='pick up passenger')\n",
      "taxi:  2      Event(time=59, proc=2, action='pick up passenger')\n",
      "taxi:  0  Event(time=63, proc=0, action='drop off passenger')\n",
      "taxi:  1    Event(time=63, proc=1, action='drop off passenger')\n",
      "taxi:  0  Event(time=66, proc=0, action='going home')\n",
      "taxi:  1    Event(time=75, proc=1, action='pick up passenger')\n",
      "taxi:  2      Event(time=79, proc=2, action='drop off passenger')\n",
      "taxi:  2      Event(time=96, proc=2, action='pick up passenger')\n",
      "taxi:  1    Event(time=99, proc=1, action='drop off passenger')\n",
      "taxi:  2      Event(time=112, proc=2, action='drop off passenger')\n",
      "taxi:  1    Event(time=119, proc=1, action='pick up passenger')\n",
      "taxi:  1    Event(time=124, proc=1, action='drop off passenger')\n",
      "*** end of simulation time: 2 events pending ***\n"
     ]
    }
   ],
   "source": [
    "sim = Simulator(taxis)\n",
    "sim.run(120)"
   ]
  }
 ],
 "metadata": {
  "kernelspec": {
   "display_name": "Python 3",
   "language": "python",
   "name": "python3"
  },
  "language_info": {
   "codemirror_mode": {
    "name": "ipython",
    "version": 3
   },
   "file_extension": ".py",
   "mimetype": "text/x-python",
   "name": "python",
   "nbconvert_exporter": "python",
   "pygments_lexer": "ipython3",
   "version": "3.6.5"
  }
 },
 "nbformat": 4,
 "nbformat_minor": 2
}
