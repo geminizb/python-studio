{
 "cells": [
  {
   "cell_type": "code",
   "execution_count": 10,
   "metadata": {},
   "outputs": [],
   "source": [
    "import requests, re, json"
   ]
  },
  {
   "cell_type": "code",
   "execution_count": 6,
   "metadata": {},
   "outputs": [],
   "source": [
    "def getIP():\n",
    "    text = requests.get('http://txt.go.sohu.com/ip/soip').text\n",
    "    ip = re.findall('\\d+.\\d+.\\d+.\\d+', text)\n",
    "    return ip[0]"
   ]
  },
  {
   "cell_type": "code",
   "execution_count": 12,
   "metadata": {},
   "outputs": [],
   "source": [
    "ip = getIP()\n",
    "response = requests.get('http://ip-api.com/json/%s' % ip).text\n",
    "info = json.loads(response)"
   ]
  },
  {
   "cell_type": "code",
   "execution_count": 13,
   "metadata": {},
   "outputs": [
    {
     "data": {
      "text/plain": [
       "{'as': 'AS4812 China Telecom (Group)',\n",
       " 'city': 'Shanghai (Jingan Qu)',\n",
       " 'country': 'China',\n",
       " 'countryCode': 'CN',\n",
       " 'isp': 'China Telecom Shanghai',\n",
       " 'lat': 31.2225,\n",
       " 'lon': 121.452,\n",
       " 'org': 'China Telecom Shanghai',\n",
       " 'query': '222.66.53.68',\n",
       " 'region': '',\n",
       " 'regionName': 'Shanghai',\n",
       " 'status': 'success',\n",
       " 'timezone': 'Asia/Shanghai',\n",
       " 'zip': ''}"
      ]
     },
     "execution_count": 13,
     "metadata": {},
     "output_type": "execute_result"
    }
   ],
   "source": [
    "info"
   ]
  }
 ],
 "metadata": {
  "kernelspec": {
   "display_name": "Python 3",
   "language": "python",
   "name": "python3"
  },
  "language_info": {
   "codemirror_mode": {
    "name": "ipython",
    "version": 3
   },
   "file_extension": ".py",
   "mimetype": "text/x-python",
   "name": "python",
   "nbconvert_exporter": "python",
   "pygments_lexer": "ipython3",
   "version": "3.6.5"
  }
 },
 "nbformat": 4,
 "nbformat_minor": 2
}
