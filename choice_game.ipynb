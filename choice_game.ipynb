{
 "cells": [
  {
   "cell_type": "code",
   "execution_count": 1,
   "metadata": {},
   "outputs": [],
   "source": [
    "import numpy.random as random"
   ]
  },
  {
   "cell_type": "code",
   "execution_count": 2,
   "metadata": {},
   "outputs": [],
   "source": [
    "n_tests = 1000\n",
    "winning_doors = random.randint(0, 3, n_tests)\n",
    "change_wins = 0\n",
    "insist_wins = 0"
   ]
  },
  {
   "cell_type": "code",
   "execution_count": 4,
   "metadata": {},
   "outputs": [],
   "source": [
    "for win_door in winning_doors:\n",
    "    first_try = random.randint(0, 3)\n",
    "    rest_choices = [i for i in range(3) if i != first_try]\n",
    "    \n",
    "    wrong_choices = [i for i in range(3) if i != win_door]\n",
    "    if first_try in wrong_choices:\n",
    "        wrong_choices.remove(first_try)\n",
    "        \n",
    "    open_one = random.choice(wrong_choices)\n",
    "    rest_choices.remove(open_one)\n",
    "    change_try = rest_choices[0]\n",
    "    \n",
    "    change_wins += 1 if change_try == win_door else 0\n",
    "    insist_wins += 1 if first_try == win_door else 0"
   ]
  },
  {
   "cell_type": "code",
   "execution_count": 5,
   "metadata": {},
   "outputs": [
    {
     "data": {
      "text/plain": [
       "0.67"
      ]
     },
     "execution_count": 5,
     "metadata": {},
     "output_type": "execute_result"
    }
   ],
   "source": [
    "change_wins / n_tests"
   ]
  },
  {
   "cell_type": "code",
   "execution_count": 6,
   "metadata": {},
   "outputs": [
    {
     "data": {
      "text/plain": [
       "0.33"
      ]
     },
     "execution_count": 6,
     "metadata": {},
     "output_type": "execute_result"
    }
   ],
   "source": [
    "insist_wins / n_tests"
   ]
  }
 ],
 "metadata": {
  "kernelspec": {
   "display_name": "Python 3",
   "language": "python",
   "name": "python3"
  },
  "language_info": {
   "codemirror_mode": {
    "name": "ipython",
    "version": 3
   },
   "file_extension": ".py",
   "mimetype": "text/x-python",
   "name": "python",
   "nbconvert_exporter": "python",
   "pygments_lexer": "ipython3",
   "version": "3.7.1"
  }
 },
 "nbformat": 4,
 "nbformat_minor": 2
}
