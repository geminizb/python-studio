{
 "cells": [
  {
   "cell_type": "code",
   "execution_count": 1,
   "metadata": {},
   "outputs": [],
   "source": [
    "import cv2\n",
    "import numpy as np"
   ]
  },
  {
   "cell_type": "markdown",
   "metadata": {},
   "source": [
    "***"
   ]
  },
  {
   "cell_type": "code",
   "execution_count": 9,
   "metadata": {},
   "outputs": [],
   "source": [
    "video = cv2.VideoCapture(0)"
   ]
  },
  {
   "cell_type": "code",
   "execution_count": 10,
   "metadata": {},
   "outputs": [],
   "source": [
    "a = 0\n",
    "while True:\n",
    "    a += 1\n",
    "    check, frame = video.read()\n",
    "    gray = cv2.cvtColor(frame, cv2.COLOR_BGR2GRAY)\n",
    "    cv2.imshow('Capturing', gray)\n",
    "    key = cv2.waitKey(1)\n",
    "    if key == ord('q'):\n",
    "        break"
   ]
  },
  {
   "cell_type": "code",
   "execution_count": 16,
   "metadata": {},
   "outputs": [],
   "source": [
    "video.release()\n",
    "cv2.destroyAllWindows()"
   ]
  },
  {
   "cell_type": "markdown",
   "metadata": {},
   "source": [
    "***"
   ]
  },
  {
   "cell_type": "code",
   "execution_count": 10,
   "metadata": {},
   "outputs": [],
   "source": [
    "cap = cv2.VideoCapture('video3.mp4')"
   ]
  },
  {
   "cell_type": "code",
   "execution_count": 11,
   "metadata": {},
   "outputs": [],
   "source": [
    "while cap.isOpened():\n",
    "    ret, frame = cap.read()\n",
    "    try:\n",
    "        cv2.imshow('Frame', frame)\n",
    "    except:\n",
    "        print('EOF')\n",
    "        break\n",
    "    k = cv2.waitKey(30) & 0xff\n",
    "    if k == 27:\n",
    "        break"
   ]
  },
  {
   "cell_type": "code",
   "execution_count": 12,
   "metadata": {},
   "outputs": [],
   "source": [
    "cap.release()\n",
    "cv2.destroyAllWindows()"
   ]
  },
  {
   "cell_type": "markdown",
   "metadata": {},
   "source": [
    "***"
   ]
  },
  {
   "cell_type": "code",
   "execution_count": 21,
   "metadata": {},
   "outputs": [],
   "source": [
    "cap = cv2.VideoCapture('video3.mp4')\n",
    "w, h = cap.get(3), cap.get(4)\n",
    "mx, my = int(w/2), int(h/2)\n",
    "count = 0"
   ]
  },
  {
   "cell_type": "code",
   "execution_count": 22,
   "metadata": {},
   "outputs": [
    {
     "name": "stdout",
     "output_type": "stream",
     "text": [
      "EOF\n"
     ]
    }
   ],
   "source": [
    "while cap.isOpened():\n",
    "    ret, frame = cap.read()\n",
    "    try:\n",
    "        count += 1\n",
    "        text = 'Statistic UI ' + str(count)\n",
    "        cv2.putText(frame, text, (mx, my), cv2.FONT_HERSHEY_SIMPLEX, \n",
    "                    1, (255, 255, 255), 1, cv2.LINE_AA)\n",
    "        cv2.imshow('Frame', frame)\n",
    "        \n",
    "        frame2 = frame\n",
    "    except:\n",
    "        print('EOF')\n",
    "        break\n",
    "    \n",
    "    line1 = np.array([[100, 100], [300, 100], [350, 200]], np.int32).reshape((-1, 1, 2))\n",
    "    line2 = np.array([[400, 50], [450, 300]], np.int32).reshape((-1, 1, 2))\n",
    "    frame2 = cv2.polylines(frame2, [line1], False, (255, 0, 0), thickness=2)\n",
    "    frame2 = cv2.polylines(frame2, [line2], False, (0, 0, 255), thickness=1)\n",
    "    cv2.imshow('Frame 2', frame2)\n",
    "    \n",
    "    k = cv2.waitKey(30) & 0xff\n",
    "    if k == 27:\n",
    "        break"
   ]
  },
  {
   "cell_type": "code",
   "execution_count": 23,
   "metadata": {},
   "outputs": [],
   "source": [
    "cap.release()\n",
    "cv2.destroyAllWindows()"
   ]
  },
  {
   "cell_type": "markdown",
   "metadata": {},
   "source": [
    "***"
   ]
  },
  {
   "cell_type": "code",
   "execution_count": 27,
   "metadata": {},
   "outputs": [],
   "source": [
    "cap = cv2.VideoCapture('video3.mp4')\n",
    "fgbg = cv2.createBackgroundSubtractorMOG2(detectShadows=True)"
   ]
  },
  {
   "cell_type": "code",
   "execution_count": 28,
   "metadata": {},
   "outputs": [
    {
     "name": "stdout",
     "output_type": "stream",
     "text": [
      "EOF\n"
     ]
    }
   ],
   "source": [
    "while cap.isOpened():\n",
    "    ret, frame = cap.read()\n",
    "    fgmask = fgbg.apply(frame)\n",
    "    try:\n",
    "        cv2.imshow('Frame', frame)\n",
    "        cv2.imshow('Background Substraction', fgmask)\n",
    "    except:\n",
    "        print('EOF')\n",
    "        break\n",
    "    k = cv2.waitKey(30) & 0xff\n",
    "    if k == 27:\n",
    "        break"
   ]
  },
  {
   "cell_type": "code",
   "execution_count": 29,
   "metadata": {},
   "outputs": [],
   "source": [
    "cap.release()\n",
    "cv2.destroyAllWindows()"
   ]
  },
  {
   "cell_type": "markdown",
   "metadata": {},
   "source": [
    "***"
   ]
  },
  {
   "cell_type": "code",
   "execution_count": 55,
   "metadata": {},
   "outputs": [],
   "source": [
    "cap = cv2.VideoCapture('video3.mp4')\n",
    "fgbg = cv2.createBackgroundSubtractorMOG2(detectShadows=True)\n",
    "kernelOp = np.ones((3, 3), np.uint8)\n",
    "kernelCl = np.ones((11, 11), np.uint8)\n",
    "areaTH = 5000"
   ]
  },
  {
   "cell_type": "code",
   "execution_count": 56,
   "metadata": {},
   "outputs": [
    {
     "name": "stdout",
     "output_type": "stream",
     "text": [
      "EOF\n"
     ]
    }
   ],
   "source": [
    "while cap.isOpened():\n",
    "    ret, frame = cap.read()\n",
    "    fgmask = fgbg.apply(frame)\n",
    "    try:\n",
    "        ret, imBin = cv2.threshold(fgmask, 200, 255, cv2.THRESH_BINARY)\n",
    "        mask = cv2.morphologyEx(imBin, cv2.MORPH_OPEN, kernelOp)\n",
    "        mask = cv2.morphologyEx(mask, cv2.MORPH_CLOSE, kernelCl)\n",
    "    except:\n",
    "        print('EOF')\n",
    "        break\n",
    "    \n",
    "    _, contours0, hierarchy = cv2.findContours(mask, cv2.RETR_EXTERNAL, cv2.CHAIN_APPROX_NONE)\n",
    "    for cnt in contours0:\n",
    "        cv2.drawContours(frame, cnt, -1, (0, 255, 0), 3, 8)\n",
    "        #cv2.imshow('Frame', frame)\n",
    "        area = cv2.contourArea(cnt)\n",
    "        #print(area)\n",
    "        if area > areaTH:\n",
    "            M = cv2.moments(cnt)\n",
    "            cx = int(M['m10']/M['m00'])\n",
    "            cy = int(M['m01']/M['m00'])\n",
    "            x, y, w, h = cv2.boundingRect(cnt)\n",
    "            cv2.circle(frame, (cx, cy), 5, (0, 0, 255), -1)\n",
    "            cv2.rectangle(frame, (x, y), (x+w, y+h), (0, 255, 0), 2)\n",
    "            cv2.imshow('Frame', frame)\n",
    "    \n",
    "    k = cv2.waitKey(30) & 0xff\n",
    "    if k == 27:\n",
    "        break"
   ]
  },
  {
   "cell_type": "code",
   "execution_count": 57,
   "metadata": {},
   "outputs": [],
   "source": [
    "cap.release()\n",
    "cv2.destroyAllWindows()"
   ]
  },
  {
   "cell_type": "code",
   "execution_count": null,
   "metadata": {},
   "outputs": [],
   "source": []
  }
 ],
 "metadata": {
  "kernelspec": {
   "display_name": "Python 3",
   "language": "python",
   "name": "python3"
  },
  "language_info": {
   "codemirror_mode": {
    "name": "ipython",
    "version": 3
   },
   "file_extension": ".py",
   "mimetype": "text/x-python",
   "name": "python",
   "nbconvert_exporter": "python",
   "pygments_lexer": "ipython3",
   "version": "3.6.5"
  }
 },
 "nbformat": 4,
 "nbformat_minor": 2
}
