{
 "cells": [
  {
   "cell_type": "code",
   "execution_count": 6,
   "metadata": {},
   "outputs": [
    {
     "name": "stdout",
     "output_type": "stream",
     "text": [
      "                                                            \n",
      "                                                            \n",
      "                                                            \n",
      "                veLoveLov           veLoveLov               \n",
      "            eLoveLoveLoveLove   eLoveLoveLoveLove           \n",
      "          veLoveLoveLoveLoveLoveLoveLoveLoveLoveLov         \n",
      "         veLoveLoveLoveLoveLoveLoveLoveLoveLoveLoveL        \n",
      "        veLoveLoveLoveLoveLoveLoveLoveLoveLoveLoveLov       \n",
      "        eLoveLoveLoveLoveLoveLoveLoveLoveLoveLoveLove       \n",
      "        LoveLoveLoveLoveLoveLoveLoveLoveLoveLoveLoveL       \n",
      "        oveLoveLoveLoveLoveLoveLoveLoveLoveLoveLoveLo       \n",
      "        veLoveLoveLoveLoveLoveLoveLoveLoveLoveLoveLov       \n",
      "        eLoveLoveLoveLoveLoveLoveLoveLoveLoveLoveLove       \n",
      "         oveLoveLoveLoveLoveLoveLoveLoveLoveLoveLove        \n",
      "          eLoveLoveLoveLoveLoveLoveLoveLoveLoveLove         \n",
      "          LoveLoveLoveLoveLoveLoveLoveLoveLoveLoveL         \n",
      "            eLoveLoveLoveLoveLoveLoveLoveLoveLove           \n",
      "             oveLoveLoveLoveLoveLoveLoveLoveLove            \n",
      "              eLoveLoveLoveLoveLoveLoveLoveLove             \n",
      "                veLoveLoveLoveLoveLoveLoveLov               \n",
      "                  oveLoveLoveLoveLoveLoveLo                 \n",
      "                    LoveLoveLoveLoveLoveL                   \n",
      "                       LoveLoveLoveLov                      \n",
      "                          LoveLoveL                         \n",
      "                             Lov                            \n",
      "                              v                             \n",
      "                                                            \n",
      "                                                            \n",
      "                                                            \n",
      "                                                            \n"
     ]
    }
   ],
   "source": [
    "print('\\n'.join([''.join([('Love'[(x-y) % len('Love')] \n",
    "                           if ((x*0.05)**2+(y*0.1)**2-1)**3-(x*0.05)**2*(y*0.1)**3 <= 0 \n",
    "                           else ' ') \n",
    "                          for x in range(-30, 30)]) \n",
    "                 for y in range(15, -15, -1)]))"
   ]
  },
  {
   "cell_type": "code",
   "execution_count": 2,
   "metadata": {},
   "outputs": [
    {
     "name": "stdout",
     "output_type": "stream",
     "text": [
      "                                                                                *                   \n",
      "                                                                                                    \n",
      "                                                                                                    \n",
      "                                                                          **                        \n",
      "                                                                     ***********                    \n",
      "                                                                    ************                    \n",
      "                                                                      *********                     \n",
      "                                                            *    * ************  * *                \n",
      "                                                    ****** * *************************** *          \n",
      "                                                    *************************************** *****   \n",
      "                                                     *******************************************    \n",
      "                                               *** ******************************************** *   \n",
      "                                                **************************************************  \n",
      "                                             *******************************************************\n",
      "                      *        *              ***************************************************** \n",
      "                     **** ******* *          *******************************************************\n",
      "                      *****************     ******************************************************* \n",
      "                   *********************** *********************************************************\n",
      "                   *********************** ******************************************************** \n",
      "             **** ********************************************************************************  \n",
      "*********************************************************************************************       \n",
      "             **** ********************************************************************************  \n",
      "                   *********************** ******************************************************** \n",
      "                   *********************** *********************************************************\n",
      "                      *****************     ******************************************************* \n",
      "                     **** ******* *          *******************************************************\n",
      "                      *        *              ***************************************************** \n",
      "                                             *******************************************************\n",
      "                                                **************************************************  \n",
      "                                               *** ******************************************** *   \n",
      "                                                     *******************************************    \n",
      "                                                    *************************************** *****   \n",
      "                                                    ****** * *************************** *          \n",
      "                                                            *    * ************  * *                \n",
      "                                                                      *********                     \n",
      "                                                                    ************                    \n",
      "                                                                     ***********                    \n",
      "                                                                          **                        \n",
      "                                                                                                    \n",
      "                                                                                                    \n"
     ]
    }
   ],
   "source": [
    "print('\\n'.join([''.join(['*'\n",
    "                          if abs((lambda a: lambda z, c, n: a(a, z, c, n))\n",
    "                                 (lambda s, z, c, n: z if n == 0 else s(s, z*z+c, c, n-1))\n",
    "                                 (0, 0.02*x+0.05j*y, 40)) < 2 \n",
    "                          else ' ' \n",
    "                          for x in range(-80, 20)]) \n",
    "                 for y in range(-20, 20)]))"
   ]
  },
  {
   "cell_type": "code",
   "execution_count": 7,
   "metadata": {},
   "outputs": [
    {
     "name": "stdout",
     "output_type": "stream",
     "text": [
      "1*1=1 \n",
      "1*2=2  2*2=4 \n",
      "1*3=3  2*3=6  3*3=9 \n",
      "1*4=4  2*4=8  3*4=12 4*4=16\n",
      "1*5=5  2*5=10 3*5=15 4*5=20 5*5=25\n",
      "1*6=6  2*6=12 3*6=18 4*6=24 5*6=30 6*6=36\n",
      "1*7=7  2*7=14 3*7=21 4*7=28 5*7=35 6*7=42 7*7=49\n",
      "1*8=8  2*8=16 3*8=24 4*8=32 5*8=40 6*8=48 7*8=56 8*8=64\n",
      "1*9=9  2*9=18 3*9=27 4*9=36 5*9=45 6*9=54 7*9=63 8*9=72 9*9=81\n"
     ]
    }
   ],
   "source": [
    "print('\\n'.join([' '.join(['%s*%s=%-2s' % (y, x, x*y) \n",
    "                           for y in range(1, x+1)]) \n",
    "                 for x in range(1, 10)]))"
   ]
  },
  {
   "cell_type": "code",
   "execution_count": 10,
   "metadata": {},
   "outputs": [
    {
     "name": "stdout",
     "output_type": "stream",
     "text": [
      "___  ||||___|__|_|||____|| _||||_||_ ||||||||__|_|_ ||__|_|__|_ |||_ ||||||_ ||| | |||___|_||__ __|___ | ||_|__|_||___|||_|_ |____|__  _||_ |____ _| |_ _ _||||| ||_| | |__|_____| | |_ |||_  __ ||_|___| ||_|_||| | __|___  _|_| _ ||_ _||  ||_||| |___ _| _|||_|_|__| _ ||_|| |_|__|| __ _| |_ | |  _|_  _|___|   ||||____ _  |||_ |_||_|___|  |_||_| |_|__ _| _| |_| |___|_ _ | __|||__|_| |__  _||||__ _|_|_|_ ||  _ ___|  __|| _|_| |_ _|| _ __|____||_ _____|| || |_____|__ ___|   | |_| _   ||_| __|__ | ___|_| __||   ||_ ___  |_ _|___ |__| |_| _|_|____| _|_|_|___||_ _|_||| _|_||_|_|__||__|__|||_|_||_|   _||__ |_ _|||||| ||__   __|_|  __||_ __| |_|_| |||| ___|||  ___|__|||_|_|||| |__|| | __|| |__ || | _ ||||||__|__ | _  |||  __| |__ __ __ _|_|  |_ |___ __||_||_||| _  _ ||| __  ||||__    _| _| _____||| _|| | |_||_|||___|| __|  _| __|____|  | ||_| ||_ __|_|| _ ||_|  ||  ||||_|__  |||_|_| | _ |__||_|_||___|___   | ||_|__| _ |_ |_|_ | |_|_____|||_ _|__________ ___|||_||||_|_ ____||_|_|__ _||_||_|| ||||_"
     ]
    }
   ],
   "source": [
    "for i in range(1000):\n",
    "    import random;\n",
    "    print(random.choice('|| __'), end='')"
   ]
  },
  {
   "cell_type": "code",
   "execution_count": null,
   "metadata": {},
   "outputs": [],
   "source": []
  }
 ],
 "metadata": {
  "kernelspec": {
   "display_name": "Python 3",
   "language": "python",
   "name": "python3"
  },
  "language_info": {
   "codemirror_mode": {
    "name": "ipython",
    "version": 3
   },
   "file_extension": ".py",
   "mimetype": "text/x-python",
   "name": "python",
   "nbconvert_exporter": "python",
   "pygments_lexer": "ipython3",
   "version": "3.6.5"
  }
 },
 "nbformat": 4,
 "nbformat_minor": 2
}
